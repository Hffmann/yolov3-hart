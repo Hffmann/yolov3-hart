{
 "cells": [
  {
   "cell_type": "code",
   "execution_count": null,
   "metadata": {
    "collapsed": true
   },
   "outputs": [],
   "source": [
    "import os\n",
    "os.chdir('../')\n",
    "\n",
    "import numpy as np\n",
    "import tensorflow as tf\n",
    "from scipy.misc import imread, imresize\n",
    "\n",
    "from hart.data import disp\n",
    "from hart.data.kitti.tools import get_data\n",
    "from hart.model import util\n",
    "from hart.model.attention_ops import FixedStdAttention\n",
    "from hart.model.eval_tools import log_norm, log_ratios, log_values, make_expr_logger\n",
    "from hart.model.tracker import HierarchicalAttentiveRecurrentTracker as HART\n",
    "from hart.model.nn import AlexNetModel, IsTrainingLayer\n",
    "from hart.train_tools import TrainSchedule, minimize_clipped\n",
    "\n",
    "import matplotlib.pyplot as plt\n",
    "% matplotlib inline"
   ]
  },
  {
   "cell_type": "code",
   "execution_count": null,
   "metadata": {
    "collapsed": true
   },
   "outputs": [],
   "source": [
    "alexnet_dir = 'checkpoints'\n",
    "img_dir = 'imgs'\n",
    "checkpoint_path = 'checkpoints/kitti/pretrained/model.ckpt-347346'\n",
    "\n",
    "img_dir = '../../data/kitti_tracking/small'\n",
    "label_dir = '../../data/kitti_tracking/label_02'\n",
    "\n",
    "batch_size = 1\n",
    "img_size = 187, 621, 3\n",
    "crop_size = 56, 56, 3\n",
    "\n",
    "rnn_units = 100\n",
    "norm = 'batch'\n",
    "keep_prob = .75\n",
    "\n",
    "n_timesteps = 60\n",
    "\n",
    "img_size, crop_size = [np.asarray(i) for i in (img_size, crop_size)]\n",
    "keys = ['img', 'bbox', 'presence']"
   ]
  },
  {
   "cell_type": "code",
   "execution_count": null,
   "metadata": {
    "scrolled": false
   },
   "outputs": [],
   "source": [
    "tf.reset_default_graph()\n",
    "util.set_random_seed(0)\n",
    "\n",
    "### Placeholders ####################\n",
    "train_store, train, test_store, test = get_data(img_dir, label_dir, .8, img_size[:2], n_timesteps, n_timesteps,\n",
    "             batch_size, n_threads=3, in_memory=True, sample_objects=-100,\n",
    "             truncated_threshold=1., occluded_threshold=1, reverse=True, mirror=True)\n",
    "\n",
    "x, y, p = [train[k] for k in keys]\n",
    "test_x, test_y, test_p = [test[k] for k in keys]\n",
    "\n",
    "is_training = IsTrainingLayer()\n",
    "builder = AlexNetModel(alexnet_dir, layer='conv3', n_out_feature_maps=5, upsample=False, normlayer=norm,\n",
    "                       keep_prob=keep_prob, is_training=is_training)\n",
    "\n",
    "model = HART(x, y[0], p[0], batch_size, crop_size, builder, rnn_units,\n",
    "             bbox_gain=[-4.78, -1.8, -3., -1.8],\n",
    "             zoneout_prob=(.05, .05),\n",
    "             normalize_glimpse=True,\n",
    "             attention_module=FixedStdAttention,\n",
    "             debug=True,\n",
    "             transform_init_features=True,\n",
    "             transform_init_state=True,\n",
    "             dfn_readout=True,\n",
    "             feature_shape=(14, 14),\n",
    "             is_training=is_training)\n",
    "\n",
    "tsummediou, tiou_wegihts = model.iou(y, tf.cast(p, tf.bool), True, False, start_t=0)"
   ]
  },
  {
   "cell_type": "code",
   "execution_count": null,
   "metadata": {
    "scrolled": true
   },
   "outputs": [],
   "source": [
    "print 'Num Train Batches: {}'.format(train_store.n_batches_per_epoch)\n",
    "print 'Num Test Batches: {}'.format(test_store.n_batches_per_epoch)"
   ]
  },
  {
   "cell_type": "code",
   "execution_count": null,
   "metadata": {
    "collapsed": true
   },
   "outputs": [],
   "source": [
    "saver = tf.train.Saver()\n",
    "sess = tf.Session()\n",
    "coord = tf.train.Coordinator()\n",
    "threads = tf.train.start_queue_runners(sess=sess, coord=coord)"
   ]
  },
  {
   "cell_type": "code",
   "execution_count": null,
   "metadata": {
    "scrolled": false
   },
   "outputs": [],
   "source": [
    "sess.run(tf.global_variables_initializer())\n",
    "saver.restore(sess, checkpoint_path)\n",
    "model.test_mode(sess)"
   ]
  },
  {
   "cell_type": "code",
   "execution_count": null,
   "metadata": {
    "collapsed": true
   },
   "outputs": [],
   "source": [
    "def compute_iou(store, fd_dict=None, fraction=1.):\n",
    "    ws = np.zeros(store.n_timesteps)\n",
    "    ious = np.zeros(store.n_timesteps)\n",
    "    n_batches = int(fraction * store.n_batches_per_epoch)\n",
    "   \n",
    "    for i in xrange(n_batches):\n",
    "        print '\\r{} / {}'.format(i+1, n_batches),\n",
    "        fd = None\n",
    "        if fd_dict:\n",
    "            fd = sess.run(fd_dict)\n",
    "        a, b = sess.run([tsummediou, tiou_wegihts], fd)\n",
    "        ious[:a.shape[0]] += a\n",
    "        ws[:b.shape[0]] += b\n",
    "        \n",
    "    print\n",
    "    ious /= ws\n",
    "    return ious"
   ]
  },
  {
   "cell_type": "code",
   "execution_count": null,
   "metadata": {},
   "outputs": [],
   "source": [
    "train_ious = compute_iou(train_store, fraction=.2)\n",
    "print train_ious\n",
    "\n",
    "test_fd = {x: test_x, y: test_y, p: test_p}\n",
    "test_ious = compute_iou(test_store, test_fd, fraction=1.)\n",
    "print test_ious"
   ]
  },
  {
   "cell_type": "code",
   "execution_count": null,
   "metadata": {},
   "outputs": [],
   "source": [
    "fig, ax = plt.subplots(1, 1)\n",
    "ax.plot(train_ious, 'r', lw=2, label='train')\n",
    "ax.plot(test_ious, 'g', lw=2, label='test')\n",
    "ax.set_ylabel('IoU')\n",
    "ax.set_xlabel('timestep')\n",
    "ax.grid(True)\n",
    "ax.legend(loc=0)\n",
    "ax.set_title('IoU vs Time')\n",
    "ax.set_xlim([0, n_timesteps - 1])\n",
    "fig.tight_layout()"
   ]
  }
 ],
 "metadata": {
  "anaconda-cloud": {},
  "kernelspec": {
   "display_name": "Python [default]",
   "language": "python",
   "name": "python2"
  },
  "language_info": {
   "codemirror_mode": {
    "name": "ipython",
    "version": 2
   },
   "file_extension": ".py",
   "mimetype": "text/x-python",
   "name": "python",
   "nbconvert_exporter": "python",
   "pygments_lexer": "ipython2",
   "version": "2.7.12"
  }
 },
 "nbformat": 4,
 "nbformat_minor": 1
}
